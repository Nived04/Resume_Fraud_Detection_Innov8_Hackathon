{
 "cells": [
  {
   "cell_type": "code",
   "execution_count": 1,
   "metadata": {},
   "outputs": [],
   "source": [
    "import pandas as pd"
   ]
  },
  {
   "cell_type": "code",
   "execution_count": 4,
   "metadata": {},
   "outputs": [],
   "source": [
    "skills_trust = pd.read_csv('preprocessing/even_smaller_skills_trust.csv') # skills_relevance\n",
    "skills_trust = skills_trust.drop(columns=['Unnamed: 0'])\n",
    "skills_score = pd.read_csv('preprocessing/even_smaller_skills_score.csv') # skills_score\n",
    "skills_score = skills_score.drop(columns=['Unnamed: 0'])\n",
    "exp_trust = pd.read_csv('preprocessing/extracted_resume_sections_formatted_vague.csv') # experience_vague\n",
    "reco_sentiments = pd.read_csv('preprocessing/added_lor_sentiments.csv') # lor_sentiment_score\n",
    "reco_trust = pd.read_csv('preprocessing/added_lor_trust_score.csv') # lor_trust_score"
   ]
  },
  {
   "cell_type": "code",
   "execution_count": 27,
   "metadata": {},
   "outputs": [],
   "source": [
    "combined = exp_trust.copy()\n",
    "combined['skills_trust'] = skills_trust['skills_relevance']\n",
    "combined['skills_score'] = skills_score['skills_skore']\n",
    "combined['reco_trust'] = reco_trust['lor_trust_score']\n",
    "combined['reco_score'] = reco_sentiments['lor_sentiment_score']\n",
    "combined['lor_from'] = reco_sentiments['lor_from']"
   ]
  },
  {
   "cell_type": "code",
   "execution_count": 28,
   "metadata": {},
   "outputs": [],
   "source": [
    "combined.drop(columns=['Resume ID'], inplace=True)"
   ]
  },
  {
   "cell_type": "code",
   "execution_count": 30,
   "metadata": {},
   "outputs": [],
   "source": [
    "combined.to_csv('combined.csv')"
   ]
  },
  {
   "cell_type": "code",
   "execution_count": 1,
   "metadata": {},
   "outputs": [],
   "source": [
    "import pandas as pd\n",
    "\n",
    "combined = pd.read_csv('combined.csv')"
   ]
  },
  {
   "cell_type": "code",
   "execution_count": 2,
   "metadata": {},
   "outputs": [
    {
     "data": {
      "text/plain": [
       "Index(['Unnamed: 0', 'id', 'licenses', 'accomplishments',\n",
       "       'personal information', 'salary', 'languages', 'training', 'summary',\n",
       "       'publications', 'education', 'contact information', 'volunteer',\n",
       "       'experience', 'interests', 'skills', 'experience_vague', 'skills_trust',\n",
       "       'skills_score', 'reco_trust', 'reco_score', 'lor_from'],\n",
       "      dtype='object')"
      ]
     },
     "execution_count": 2,
     "metadata": {},
     "output_type": "execute_result"
    }
   ],
   "source": [
    "combined.columns"
   ]
  },
  {
   "cell_type": "code",
   "execution_count": 5,
   "metadata": {},
   "outputs": [],
   "source": [
    "combined[\"role\"] = reco_sentiments[\"role\"]"
   ]
  },
  {
   "cell_type": "code",
   "execution_count": 9,
   "metadata": {},
   "outputs": [
    {
     "data": {
      "text/html": [
       "<div>\n",
       "<style scoped>\n",
       "    .dataframe tbody tr th:only-of-type {\n",
       "        vertical-align: middle;\n",
       "    }\n",
       "\n",
       "    .dataframe tbody tr th {\n",
       "        vertical-align: top;\n",
       "    }\n",
       "\n",
       "    .dataframe thead th {\n",
       "        text-align: right;\n",
       "    }\n",
       "</style>\n",
       "<table border=\"1\" class=\"dataframe\">\n",
       "  <thead>\n",
       "    <tr style=\"text-align: right;\">\n",
       "      <th></th>\n",
       "      <th>name</th>\n",
       "      <th>role</th>\n",
       "      <th>skillTrust</th>\n",
       "      <th>skillScore</th>\n",
       "      <th>recoTrust</th>\n",
       "      <th>recoScore</th>\n",
       "      <th>experienceAccuracy</th>\n",
       "    </tr>\n",
       "  </thead>\n",
       "  <tbody>\n",
       "    <tr>\n",
       "      <th>0</th>\n",
       "      <td>10</td>\n",
       "      <td>Operations Manager</td>\n",
       "      <td>4.0</td>\n",
       "      <td>4.0</td>\n",
       "      <td>4.0</td>\n",
       "      <td>4.0</td>\n",
       "      <td>4.0</td>\n",
       "    </tr>\n",
       "    <tr>\n",
       "      <th>1</th>\n",
       "      <td>103</td>\n",
       "      <td>Accountant</td>\n",
       "      <td>4.0</td>\n",
       "      <td>4.0</td>\n",
       "      <td>5.0</td>\n",
       "      <td>4.0</td>\n",
       "      <td>2.0</td>\n",
       "    </tr>\n",
       "    <tr>\n",
       "      <th>2</th>\n",
       "      <td>106</td>\n",
       "      <td>Finance Director</td>\n",
       "      <td>5.0</td>\n",
       "      <td>4.0</td>\n",
       "      <td>5.0</td>\n",
       "      <td>5.0</td>\n",
       "      <td>4.0</td>\n",
       "    </tr>\n",
       "    <tr>\n",
       "      <th>3</th>\n",
       "      <td>107</td>\n",
       "      <td>Accountant</td>\n",
       "      <td>4.0</td>\n",
       "      <td>3.0</td>\n",
       "      <td>5.0</td>\n",
       "      <td>4.0</td>\n",
       "      <td>2.0</td>\n",
       "    </tr>\n",
       "    <tr>\n",
       "      <th>4</th>\n",
       "      <td>108</td>\n",
       "      <td>Fitness Instructor</td>\n",
       "      <td>1.0</td>\n",
       "      <td>2.0</td>\n",
       "      <td>5.0</td>\n",
       "      <td>4.0</td>\n",
       "      <td>4.0</td>\n",
       "    </tr>\n",
       "  </tbody>\n",
       "</table>\n",
       "</div>"
      ],
      "text/plain": [
       "   name                role  skillTrust  skillScore  recoTrust  recoScore  \\\n",
       "0    10  Operations Manager         4.0         4.0        4.0        4.0   \n",
       "1   103          Accountant         4.0         4.0        5.0        4.0   \n",
       "2   106    Finance Director         5.0         4.0        5.0        5.0   \n",
       "3   107          Accountant         4.0         3.0        5.0        4.0   \n",
       "4   108  Fitness Instructor         1.0         2.0        5.0        4.0   \n",
       "\n",
       "   experienceAccuracy  \n",
       "0                 4.0  \n",
       "1                 2.0  \n",
       "2                 4.0  \n",
       "3                 2.0  \n",
       "4                 4.0  "
      ]
     },
     "execution_count": 9,
     "metadata": {},
     "output_type": "execute_result"
    }
   ],
   "source": [
    "map_col = {\"id\": \"name\",\n",
    "           \"role\": \"role\",\n",
    "           \"skills_trust\": \"skillTrust\",\n",
    "           \"skills_score\": \"skillScore\",\n",
    "           \"reco_trust\": \"recoTrust\",\n",
    "           \"reco_score\": \"recoScore\",\n",
    "           \"experience_vague\": \"experienceAccuracy\"}\n",
    "\n",
    "new_df = pd.DataFrame(columns=map_col.values())\n",
    "for key in map_col.keys():\n",
    "    new_df[map_col[key]] = combined[key]\n",
    "\n",
    "new_df.head()"
   ]
  },
  {
   "cell_type": "code",
   "execution_count": 11,
   "metadata": {},
   "outputs": [],
   "source": [
    "# convert the name field to string\n",
    "new_df[\"name\"] = new_df[\"name\"].astype(str)\n",
    "new_df.to_csv('combined_mongo_users.csv', index=False)"
   ]
  },
  {
   "cell_type": "code",
   "execution_count": 13,
   "metadata": {},
   "outputs": [],
   "source": [
    "roles_skills = {\n",
    "    \"Accountant\": [\"MS Excel\", \"Accounting Software (like Sage)\", \"Financial Reporting\"],\n",
    "    \"Human Resources Specialist\": [\"Mediation\", \"Recruitment Planning\", \"Complaints Management\"],\n",
    "    \"Finance Director\": [\"Investor Relations\", \"Financial Planning\", \"Risk Management\"],\n",
    "    \"Director/VP of Information Technology\": [\"Leadership\", \"Project Management\", \"Technical Skills\", \"Highly Experienced\"],\n",
    "    \"Operations Manager\": [\"Supply Chain Management\", \"Process Optimization\", \"Highly Experienced\"],\n",
    "    \"Fitness Instructor\": [\"Fitness Training Experience\", \"Yoga\", \"Self Defense\"],\n",
    "    \"Finance Manager\": [\"Communication skills\", \"MS Office\", \"Sales and Marketing\"],\n",
    "    \"Customer Service Representative\": [\"Communication\", \"Management Skills\", \"Problem Solving\"],\n",
    "    \"HR Director\": [\"Organizational Development\", \"Change Management\", \"Leadership\"],\n",
    "    \"Finance Analyst\": [\"MS Excel\", \"Accounting Software (like Sage)\", \"Financial Reporting\"],\n",
    "    \"Information Technology Manager\" : [\"Leadership\", \"Project Management\", \"Technical Skills\"]\n",
    "}\n",
    "\n",
    "# convert to df with columns role and expectations\n",
    "role_expectations = pd.DataFrame(columns=[\"role\", \"expectations\"])\n",
    "for role in roles_skills.keys():\n",
    "    new_row_df = pd.DataFrame({\"role\": [role], \"expectations\": [roles_skills[role]]})\n",
    "    role_expectations = pd.concat([role_expectations, new_row_df])\n",
    "\n",
    "role_expectations.to_csv('role_expectations_mongo.csv', index=False)"
   ]
  },
  {
   "cell_type": "code",
   "execution_count": null,
   "metadata": {},
   "outputs": [],
   "source": []
  }
 ],
 "metadata": {
  "kernelspec": {
   "display_name": "simple-insure",
   "language": "python",
   "name": "python3"
  },
  "language_info": {
   "codemirror_mode": {
    "name": "ipython",
    "version": 3
   },
   "file_extension": ".py",
   "mimetype": "text/x-python",
   "name": "python",
   "nbconvert_exporter": "python",
   "pygments_lexer": "ipython3",
   "version": "3.12.2"
  }
 },
 "nbformat": 4,
 "nbformat_minor": 2
}
