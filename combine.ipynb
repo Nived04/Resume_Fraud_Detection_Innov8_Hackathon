{
 "cells": [
  {
   "cell_type": "code",
   "execution_count": 1,
   "metadata": {},
   "outputs": [],
   "source": [
    "import pandas as pd"
   ]
  },
  {
   "cell_type": "code",
   "execution_count": 21,
   "metadata": {},
   "outputs": [],
   "source": [
    "skills_trust = pd.read_csv('preprocessing/even_smaller_skills_trust.csv') # skills_relevance\n",
    "skills_trust = skills_trust.drop(columns=['Unnamed: 0'])\n",
    "skills_score = pd.read_csv('preprocessing/even_smaller_skills_score.csv') # skills_score\n",
    "skills_score = skills_score.drop(columns=['Unnamed: 0'])\n",
    "exp_trust = pd.read_csv('preprocessing/extracted_resume_sections_formatted_vague.csv') # experience_vague\n",
    "reco_sentiments = pd.read_csv('preprocessing/added_lor_sentiments.csv') # lor_sentiment_score\n",
    "reco_trust = pd.read_csv('preprocessing/added_lor_trust_score.csv') # lor_trust_score"
   ]
  },
  {
   "cell_type": "code",
   "execution_count": 23,
   "metadata": {},
   "outputs": [],
   "source": [
    "combined = exp_trust.copy()\n",
    "combined['skills_trust'] = skills_trust['skills_relevance']\n",
    "combined['skills_score'] = skills_score['skills_skore']\n",
    "combined['reco_trust'] = reco_trust['lor_trust_score']\n",
    "combined['reco_score'] = reco_sentiments['lor_sentiment_score']"
   ]
  },
  {
   "cell_type": "code",
   "execution_count": 25,
   "metadata": {},
   "outputs": [],
   "source": [
    "combined.drop(columns=['Resume ID'], inplace=True)"
   ]
  },
  {
   "cell_type": "code",
   "execution_count": 26,
   "metadata": {},
   "outputs": [],
   "source": [
    "combined.to_csv('combined.csv')"
   ]
  }
 ],
 "metadata": {
  "kernelspec": {
   "display_name": "simple-insure",
   "language": "python",
   "name": "python3"
  },
  "language_info": {
   "codemirror_mode": {
    "name": "ipython",
    "version": 3
   },
   "file_extension": ".py",
   "mimetype": "text/x-python",
   "name": "python",
   "nbconvert_exporter": "python",
   "pygments_lexer": "ipython3",
   "version": "3.12.2"
  }
 },
 "nbformat": 4,
 "nbformat_minor": 2
}
