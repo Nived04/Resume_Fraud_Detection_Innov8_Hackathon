{
 "cells": [
  {
   "cell_type": "code",
   "execution_count": 5,
   "metadata": {},
   "outputs": [
    {
     "name": "stdout",
     "output_type": "stream",
     "text": [
      "['Initiative', 'Leadership']\n"
     ]
    }
   ],
   "source": [
    "# code to identify specific words in a text file that map to a specific trait in a csv having trait,word\n",
    "# csv format: leadership,\"managed,inspired\".....\n",
    "\n",
    "import csv\n",
    "import sys\n",
    "import re\n",
    "\n",
    "trait_word_csv = \"trait_words.csv\"\n",
    "\n",
    "text = \"led a team of 10 people and pioneered a new project\"\n",
    "text = text.lower()\n",
    "\n",
    "identified_traits = []\n",
    "\n",
    "trait_word_dict = {}\n",
    "with open(trait_word_csv, mode='r') as infile:\n",
    "    reader = csv.reader(infile)\n",
    "    for row in reader:\n",
    "        trait = row[0]\n",
    "        words = row[1].split(',')\n",
    "        trait_word_dict[trait] = words\n",
    "\n",
    "for trait, words in trait_word_dict.items():\n",
    "    for word in words:\n",
    "        if word in text:\n",
    "            identified_traits.append(trait)\n",
    "            break\n",
    "            \n",
    "print(identified_traits)\n"
   ]
  },
  {
   "cell_type": "code",
   "execution_count": null,
   "metadata": {},
   "outputs": [],
   "source": []
  }
 ],
 "metadata": {
  "kernelspec": {
   "display_name": "Python 3",
   "language": "python",
   "name": "python3"
  },
  "language_info": {
   "codemirror_mode": {
    "name": "ipython",
    "version": 3
   },
   "file_extension": ".py",
   "mimetype": "text/x-python",
   "name": "python",
   "nbconvert_exporter": "python",
   "pygments_lexer": "ipython3",
   "version": "3.10.7"
  }
 },
 "nbformat": 4,
 "nbformat_minor": 2
}
