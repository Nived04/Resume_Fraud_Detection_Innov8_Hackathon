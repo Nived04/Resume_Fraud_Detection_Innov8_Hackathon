{
 "cells": [
  {
   "cell_type": "code",
   "execution_count": 1,
   "metadata": {},
   "outputs": [],
   "source": [
    "import pandas as pd"
   ]
  },
  {
   "cell_type": "code",
   "execution_count": 2,
   "metadata": {},
   "outputs": [],
   "source": [
    "file = \"../Final_Resume_Texts/resume_with_raw_roles.csv\"\n",
    "\n",
    "df = pd.read_csv(file)"
   ]
  },
  {
   "cell_type": "code",
   "execution_count": 7,
   "metadata": {},
   "outputs": [],
   "source": [
    "# find most frequent titles\n",
    "titles = df['role_raw'].value_counts()"
   ]
  },
  {
   "cell_type": "code",
   "execution_count": 8,
   "metadata": {},
   "outputs": [
    {
     "data": {
      "text/plain": [
       "role_raw\n",
       "accountant                                           115\n",
       "hr assistant                                          58\n",
       "finance director and treasurer                        42\n",
       "operations manager                                    25\n",
       "senior vp - information technology                    23\n",
       "senior hr manager                                     22\n",
       "personal trainer, group fitness instructor            17\n",
       "customer service representative                       17\n",
       "finance coordinator                                   15\n",
       "administrator of information technology               13\n",
       "advocate                                              13\n",
       "hr generalist/recruiter                               10\n",
       "aviation supply technician                            10\n",
       "project manager                                       10\n",
       "healthcare consultant                                  7\n",
       "information technology manager / network engineer      7\n",
       "internship                                             6\n",
       "software engineer                                      6\n",
       "english language arts teacher                          6\n",
       "mortgage banking default operations specialist ii      6\n",
       "Name: count, dtype: int64"
      ]
     },
     "execution_count": 8,
     "metadata": {},
     "output_type": "execute_result"
    }
   ],
   "source": [
    "titles[:20]"
   ]
  },
  {
   "cell_type": "code",
   "execution_count": 28,
   "metadata": {},
   "outputs": [],
   "source": [
    "import json\n",
    "actual_role = json.load(open(\"actual_roles.json\"))\n",
    "\n",
    "# add the actual role to the dataframe, and if it is not there in actual roles then let it be original with every first letter of every word in capital\n",
    "df['role'] = df['role_raw'].apply(lambda x: actual_role.get(x, x.title()))"
   ]
  },
  {
   "cell_type": "markdown",
   "metadata": {},
   "source": []
  },
  {
   "cell_type": "code",
   "execution_count": 29,
   "metadata": {},
   "outputs": [],
   "source": [
    "df.to_csv(\"../Final_Resume_Texts/resume_with_actual_roles.csv\", index=False)"
   ]
  },
  {
   "cell_type": "code",
   "execution_count": null,
   "metadata": {},
   "outputs": [],
   "source": []
  }
 ],
 "metadata": {
  "kernelspec": {
   "display_name": "simple-insure",
   "language": "python",
   "name": "python3"
  },
  "language_info": {
   "codemirror_mode": {
    "name": "ipython",
    "version": 3
   },
   "file_extension": ".py",
   "mimetype": "text/x-python",
   "name": "python",
   "nbconvert_exporter": "python",
   "pygments_lexer": "ipython3",
   "version": "3.12.2"
  }
 },
 "nbformat": 4,
 "nbformat_minor": 2
}
