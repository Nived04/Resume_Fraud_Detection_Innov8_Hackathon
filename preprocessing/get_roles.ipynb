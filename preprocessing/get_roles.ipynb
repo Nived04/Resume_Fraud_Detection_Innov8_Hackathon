{
 "cells": [
  {
   "cell_type": "code",
   "execution_count": 1,
   "metadata": {},
   "outputs": [],
   "source": [
    "import numpy as np # linear algebra\n",
    "import pandas as pd # data processing, CSV file I/O (e.g. pd.read_csv)\n",
    "\n",
    "import os"
   ]
  },
  {
   "cell_type": "code",
   "execution_count": null,
   "metadata": {},
   "outputs": [],
   "source": [
    "from sentence_transformers import SentenceTransformer\n",
    "from sentence_transformers.util import cos_sim\n",
    "\n",
    "\n",
    "model = SentenceTransformer('Alibaba-NLP/gte-large-en-v1.5', trust_remote_code=True).to(device)"
   ]
  },
  {
   "cell_type": "code",
   "execution_count": 2,
   "metadata": {},
   "outputs": [],
   "source": [
    "df = pd.read_csv('../Final_Resume_Texts/resume_texts.csv')"
   ]
  },
  {
   "cell_type": "code",
   "execution_count": null,
   "metadata": {},
   "outputs": [],
   "source": [
    "roles = {}\n",
    "id_role = {}\n",
    "\n",
    "for i, row in df.iterrows():\n",
    "    role = row['title']\n",
    "    id = row['id']\n",
    "\n",
    "    if role in roles:\n",
    "        id_role[id] = role\n",
    "    role_key = None\n",
    "    max_sim = -1\n",
    "    for key in roles:\n",
    "        sentences = [role, key]\n",
    "        embeddings = model.encode(sentences, convert_to_tensor=True)\n",
    "        cosine_scores = cos_sim(embeddings[0], embeddings[1])\n",
    "        if cosine_scores > max_sim:\n",
    "            max_sim = cosine_scores\n",
    "            role_key = key\n",
    "    if max_sim >= 0.8:\n",
    "        id_role[id] = role_key\n",
    "        roles[role_key].add(role)\n",
    "    else:\n",
    "        roles[role] = set()\n",
    "        id_role[id] = role\n"
   ]
  },
  {
   "cell_type": "code",
   "execution_count": null,
   "metadata": {},
   "outputs": [],
   "source": [
    "# for each id in id_role, get the role and add it to the dataframe\n",
    "df['role'] = df['id'].apply(lambda x: id_role[x])"
   ]
  },
  {
   "cell_type": "code",
   "execution_count": null,
   "metadata": {},
   "outputs": [],
   "source": [
    "device = 'cuda' if torch.cuda.is_available() else 'cpu'"
   ]
  },
  {
   "cell_type": "code",
   "execution_count": 11,
   "metadata": {},
   "outputs": [],
   "source": [
    "#\n",
    "analysis_df = pd.read_csv('../Final_Resume_Texts/resume_with_raw_roles_0_500.csv')\n",
    "roles = {}\n",
    "for i, row in analysis_df.iterrows():\n",
    "    role = row['role_raw']\n",
    "    if role in roles:\n",
    "        roles[role].add(row['title'])\n",
    "    else:\n",
    "        roles[role] = set()\n",
    "        roles[role].add(row['title'])\n",
    "\n",
    "new_roles = {}\n",
    "for role in roles:\n",
    "    new_roles[role] = list(roles[role])"
   ]
  },
  {
   "cell_type": "code",
   "execution_count": 12,
   "metadata": {},
   "outputs": [],
   "source": [
    "import json\n",
    "with open('roles.json', 'w') as f:\n",
    "    json.dump(new_roles, f)"
   ]
  }
 ],
 "metadata": {
  "kernelspec": {
   "display_name": "simple-insure",
   "language": "python",
   "name": "python3"
  },
  "language_info": {
   "codemirror_mode": {
    "name": "ipython",
    "version": 3
   },
   "file_extension": ".py",
   "mimetype": "text/x-python",
   "name": "python",
   "nbconvert_exporter": "python",
   "pygments_lexer": "ipython3",
   "version": "3.12.2"
  }
 },
 "nbformat": 4,
 "nbformat_minor": 2
}
