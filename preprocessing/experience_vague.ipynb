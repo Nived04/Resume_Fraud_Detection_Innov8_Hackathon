{
 "cells": [
  {
   "cell_type": "code",
   "execution_count": 1,
   "metadata": {},
   "outputs": [],
   "source": [
    "import pandas as pd"
   ]
  },
  {
   "cell_type": "code",
   "execution_count": 4,
   "metadata": {},
   "outputs": [
    {
     "name": "stdout",
     "output_type": "stream",
     "text": [
      "Index(['Resume ID', 'Job Title', 'Section', 'Content',\n",
      "       'experience_vagueness_index', 'experience_vague'],\n",
      "      dtype='object')\n",
      "Index(['id', 'licenses', 'accomplishments', 'personal information', 'salary',\n",
      "       'languages', 'training', 'summary', 'publications', 'education',\n",
      "       'contact information', 'volunteer', 'experience', 'interests',\n",
      "       'skills'],\n",
      "      dtype='object')\n"
     ]
    }
   ],
   "source": [
    "df_big = pd.read_csv('D:\\\\8Fold Finals\\\\preprocessing\\\\experience_vagueness.csv')\n",
    "df_small = pd.read_csv('D:\\\\8Fold Finals\\\\preprocessing\\\\extracted_resume_sections_formatted.csv')\n",
    "print(df_big.columns)\n",
    "print(df_small.columns)"
   ]
  },
  {
   "cell_type": "code",
   "execution_count": 5,
   "metadata": {},
   "outputs": [
    {
     "name": "stdout",
     "output_type": "stream",
     "text": [
      "Index(['id', 'licenses', 'accomplishments', 'personal information', 'salary',\n",
      "       'languages', 'training', 'summary', 'publications', 'education',\n",
      "       'contact information', 'volunteer', 'experience', 'interests', 'skills',\n",
      "       'Resume ID', 'experience_vague'],\n",
      "      dtype='object')\n"
     ]
    }
   ],
   "source": [
    "df_big_experience = df_big[df_big['Section'] == 'experience'][['Resume ID', 'experience_vague']]\n",
    "df_small = df_small.merge(df_big_experience, left_on='id', right_on='Resume ID', how='left')\n",
    "print(df_small.columns)"
   ]
  },
  {
   "cell_type": "code",
   "execution_count": 6,
   "metadata": {},
   "outputs": [],
   "source": [
    "df_small.to_csv('D:\\\\8Fold Finals\\\\preprocessing\\\\extracted_resume_sections_formatted_vague.csv', index=False)"
   ]
  }
 ],
 "metadata": {
  "kernelspec": {
   "display_name": "Python 3",
   "language": "python",
   "name": "python3"
  },
  "language_info": {
   "codemirror_mode": {
    "name": "ipython",
    "version": 3
   },
   "file_extension": ".py",
   "mimetype": "text/x-python",
   "name": "python",
   "nbconvert_exporter": "python",
   "pygments_lexer": "ipython3",
   "version": "3.12.4"
  }
 },
 "nbformat": 4,
 "nbformat_minor": 2
}
