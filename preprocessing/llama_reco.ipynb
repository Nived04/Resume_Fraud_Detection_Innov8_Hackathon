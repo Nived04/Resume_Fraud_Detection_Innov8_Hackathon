{
 "cells": [
  {
   "cell_type": "code",
   "execution_count": null,
   "metadata": {},
   "outputs": [],
   "source": [
    "import transformers\n",
    "import torch\n",
    "\n",
    "torch.backends.cuda.enable_mem_efficient_sdp(False)\n",
    "torch.backends.cuda.enable_flash_sdp(False)\n",
    "\n",
    "model_id = \"/kaggle/input/llama-3.1/transformers/8b-instruct/2\"\n",
    "\n",
    "pipeline = transformers.pipeline(\n",
    "    \"text-generation\",\n",
    "    model=model_id,\n",
    "    model_kwargs={\"torch_dtype\": torch.bfloat16},\n",
    "    device_map=\"auto\",\n",
    ")"
   ]
  },
  {
   "cell_type": "code",
   "execution_count": null,
   "metadata": {},
   "outputs": [],
   "source": [
    "prompt_template = [\n",
    "    {\"role\": \"system\", \"content\": \"You are an AI that extracts key highlights from a recommendation letter. \\\n",
    "                                Given the text of a recommendation letter and a specific role (e.g., 'software engineer', 'project manager'), \\\n",
    "                                return the most important endorsements mentioned in the letter that are relevant to the role. \\\n",
    "                                Format your response in a short bullet-point list. Do not give any other information.\"},\n",
    "    {\"role\": \"user\", \"content\": \"\"},\n",
    "]\n",
    "\n",
    "for i, row in df.iterrows():\n",
    "    prompt = prompt_template.copy()\n",
    "    lor_data = row[\"lor_data\"]\n",
    "    if lor_data == \"\":\n",
    "        df[\"reco_condensed\"] = \"\"\n",
    "        continue\n",
    "    prompt[1][\"content\"] = \"Role :\" + row[\"role\"] + \"\\n Recommendations: \" + lor_data + \"\\n Highlights: \"\n",
    "    outputs = pipeline(prompt, max_new_tokens = 90)\n",
    "    print(outputs[0][\"generated_text\"][-1][\"content\"])\n",
    "    print(lor_data)\n",
    "    break\n",
    "    df.loc[i, \"reco_condensed\"] = outputs[0][\"generated_text\"][-1][\"content\"]"
   ]
  }
 ],
 "metadata": {
  "language_info": {
   "name": "python"
  }
 },
 "nbformat": 4,
 "nbformat_minor": 2
}
