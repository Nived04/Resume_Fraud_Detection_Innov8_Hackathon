{
  "cells": [
    {
      "cell_type": "code",
      "execution_count": 3,
      "metadata": {
        "id": "OfkkQRJlVFpr"
      },
      "outputs": [],
      "source": [
        "RESUME_STOP_KEYWORDS = {\n",
        "    \"skills\": \"skills\",\n",
        "    \"competencies\": \"skills\",\n",
        "    \"skill highlight\": \"skills\",\n",
        "    \"qualification\": \"skills\",\n",
        "    \"experience\": \"experience\",\n",
        "    \"work history\": \"experience\",\n",
        "    \"summary\": \"summary\",\n",
        "    \"profile\": \"summary\",\n",
        "    \"objective\": \"summary\",\n",
        "    \"career focus\": \"summary\",\n",
        "    \"education\": \"education\",\n",
        "    \"training\": \"training\",\n",
        "    \"educational background\": \"education\",\n",
        "    \"educational highlight\": \"education\",\n",
        "    \"accomplishment\": \"accomplishments\",\n",
        "    \"highlight\": \"accomplishments\",\n",
        "    \"achievenment\": \"accomplishments\",\n",
        "    \"awards\": \"accomplishments\",\n",
        "    \"licenses\": \"licenses\",\n",
        "    \"certifications\": \"licenses\",\n",
        "    \"affiliations\": \"volunteer\",\n",
        "    \"volunteer\": \"volunteer\",\n",
        "    \"community service\": \"volunteer\",\n",
        "    \"interests\": \"interests\",\n",
        "    \"additional information\": \"interests\",\n",
        "    \"publication\":\"publications\",\n",
        "    \"technical reports\": \"publications\",\n",
        "    \"languages\": \"languages\",\n",
        "    \"personal information\": \"personal information\",\n",
        "    \"contact information\": \"contact information\",\n",
        "    \"salary\": \"salary\"\n",
        "}"
      ]
    },
    {
      "cell_type": "code",
      "execution_count": 4,
      "metadata": {
        "id": "TuhorgdXVQWr"
      },
      "outputs": [],
      "source": [
        "import pandas as pd"
      ]
    },
    {
      "cell_type": "code",
      "execution_count": 5,
      "metadata": {
        "id": "qaUq80T9XfEy"
      },
      "outputs": [],
      "source": [
        "def is_section(line: str):\n",
        "  linar = list(line.lower().split())\n",
        "  rawline = \" \".join(linar)\n",
        "  if len(linar) >= 1 and len(linar) < 4:\n",
        "    inds = [i for i in RESUME_STOP_KEYWORDS if rawline.find(i) != -1]\n",
        "    if inds:\n",
        "      return RESUME_STOP_KEYWORDS[inds[0]]\n",
        "  return False"
      ]
    },
    {
      "cell_type": "code",
      "execution_count": 20,
      "metadata": {
        "id": "slSrymZwXgyy"
      },
      "outputs": [],
      "source": [
        "# Function to extract sections and content from the full resume text\n",
        "def extract_sections_from_text(resume_text):\n",
        "\n",
        "    sections = {}\n",
        "    current_section = \"skiplines\"\n",
        "\n",
        "    # Split the text into lines\n",
        "    lines = resume_text.splitlines()\n",
        "\n",
        "    for line in lines:\n",
        "        line = line.strip()\n",
        "        section = is_section(line)\n",
        "        if section:\n",
        "            current_section = section\n",
        "            if not section in sections:\n",
        "              sections[current_section] = []\n",
        "        else:\n",
        "            # concat the current line with the last list element in the current section content list\n",
        "            if current_section != \"skiplines\":\n",
        "                sections[current_section].append(line)\n",
        "\n",
        "    for i in sections:\n",
        "        sections[i] = \"\\n\".join(sections[i])\n",
        "\n",
        "    return sections\n"
      ]
    },
    {
      "cell_type": "code",
      "execution_count": 21,
      "metadata": {
        "id": "HNb6J38WXh42"
      },
      "outputs": [],
      "source": [
        "def process_resumes(csv_file):\n",
        "    # Load the CSV into a DataFrame\n",
        "    df = pd.read_csv(csv_file)\n",
        "\n",
        "    # Create a list to hold the extracted sections and content\n",
        "    extracted_data = []\n",
        "\n",
        "    # Iterate over each resume\n",
        "    for index, row in df.iterrows():\n",
        "        resume_id = row['id']\n",
        "        job_title = row['title']\n",
        "        full_text = row['text']\n",
        "\n",
        "        # Extract sections from the full text of the resume\n",
        "        sections = extract_sections_from_text(full_text)\n",
        "\n",
        "        # Store each section with the resume ID and job title\n",
        "        for section in sections:\n",
        "            extracted_data.append({\n",
        "                'Resume ID': resume_id,\n",
        "                'Job Title': job_title,\n",
        "                'Section': section,\n",
        "                'Content': sections[section]\n",
        "            })\n",
        "\n",
        "    # Convert the extracted data into a DataFrame\n",
        "    extracted_df = pd.DataFrame(extracted_data)\n",
        "    return extracted_df"
      ]
    },
    {
      "cell_type": "code",
      "execution_count": 23,
      "metadata": {
        "colab": {
          "base_uri": "https://localhost:8080/"
        },
        "id": "uDgWXl1GXjZe",
        "outputId": "2c258599-dc86-4afc-f598-6ae9d7be636f"
      },
      "outputs": [
        {
          "name": "stdout",
          "output_type": "stream",
          "text": [
            "      Resume ID                                    Job Title          Section  \\\n",
            "0             0  bilingual language arts sixth grade teacher          summary   \n",
            "1             0  bilingual language arts sixth grade teacher       experience   \n",
            "2             0  bilingual language arts sixth grade teacher        education   \n",
            "3             0  bilingual language arts sixth grade teacher        volunteer   \n",
            "4             0  bilingual language arts sixth grade teacher           skills   \n",
            "...         ...                                          ...              ...   \n",
            "5163        999  information technology and aws admin intern       experience   \n",
            "5164        999  information technology and aws admin intern        education   \n",
            "5165        999  information technology and aws admin intern          summary   \n",
            "5166        999  information technology and aws admin intern  accomplishments   \n",
            "5167        999  information technology and aws admin intern           skills   \n",
            "\n",
            "                                                Content  \n",
            "0     Dedicated and enthusiastic professional with o...  \n",
            "1     08/2014\\n\\nto\\nCurrent\\nBilingual Language Art...  \n",
            "2     May 2011\\nTarrant County College\\nEmployee of ...  \n",
            "3     Association of Texas Professional Educators (A...  \n",
            "4     arts, English, instruction, Latin, letters, Lo...  \n",
            "...                                                 ...  \n",
            "5163  Information Technology and AWS Admin Intern\\n\\...  \n",
            "5164  Master of Science\\n\\n:\\nTelecommunication and ...  \n",
            "5165  Actively seeking full time opportunities from ...  \n",
            "5166  IP networking protocols\\n:TCP/IP,UDP,HTTP/S,DH...  \n",
            "5167  IP networking protocols :TCP/IP,UDP,HTTP/S,DHC...  \n",
            "\n",
            "[5168 rows x 4 columns]\n"
          ]
        }
      ],
      "source": [
        "csv_file_path = \"../Final_Resume_Texts/resume_texts.csv\"\n",
        "\n",
        "# df = pd.read_csv(csv_file_path)\n",
        "\n",
        "# print(df.head())\n",
        "\n",
        "# Process the resumes and get the extracted sections DataFrame\n",
        "extracted_df = process_resumes(csv_file_path)\n",
        "\n",
        "# # Display the extracted DataFrame\n",
        "print(extracted_df)\n",
        "\n",
        "# # Optionally, save to a CSV file\n",
        "extracted_df.to_csv('extracted_resume_sections.csv', index=False)"
      ]
    },
    {
      "cell_type": "code",
      "execution_count": null,
      "metadata": {},
      "outputs": [],
      "source": []
    },
    {
      "cell_type": "code",
      "execution_count": null,
      "metadata": {},
      "outputs": [],
      "source": []
    }
  ],
  "metadata": {
    "colab": {
      "provenance": []
    },
    "kernelspec": {
      "display_name": "Python 3",
      "name": "python3"
    },
    "language_info": {
      "codemirror_mode": {
        "name": "ipython",
        "version": 3
      },
      "file_extension": ".py",
      "mimetype": "text/x-python",
      "name": "python",
      "nbconvert_exporter": "python",
      "pygments_lexer": "ipython3",
      "version": "3.10.7"
    }
  },
  "nbformat": 4,
  "nbformat_minor": 0
}
