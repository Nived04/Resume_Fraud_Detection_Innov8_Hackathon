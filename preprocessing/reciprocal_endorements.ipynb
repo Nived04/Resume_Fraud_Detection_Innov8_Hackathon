{
 "cells": [
  {
   "cell_type": "code",
   "execution_count": 1,
   "metadata": {},
   "outputs": [
    {
     "name": "stdout",
     "output_type": "stream",
     "text": [
      "Requirement already satisfied: networkx in d:\\8fold finals\\eightfold\\lib\\site-packages (3.3)\n"
     ]
    },
    {
     "name": "stderr",
     "output_type": "stream",
     "text": [
      "DEPRECATION: textract 1.6.5 has a non-standard dependency specifier extract-msg<=0.29.*. pip 24.1 will enforce this behaviour change. A possible replacement is to upgrade to a newer version of textract or contact the author to suggest that they release a version with a conforming dependency specifiers. Discussion can be found at https://github.com/pypa/pip/issues/12063\n",
      "\n",
      "[notice] A new release of pip is available: 24.0 -> 24.2\n",
      "[notice] To update, run: python.exe -m pip install --upgrade pip\n"
     ]
    }
   ],
   "source": [
    "!pip install networkx"
   ]
  },
  {
   "cell_type": "code",
   "execution_count": 4,
   "metadata": {},
   "outputs": [
    {
     "data": {
      "text/plain": [
       "(964, 2)"
      ]
     },
     "execution_count": 4,
     "metadata": {},
     "output_type": "execute_result"
    }
   ],
   "source": [
    "import pandas as pd\n",
    "import numpy as np\n",
    "import ast\n",
    "\n",
    "PATH = '..\\\\Final_Persons_And_Recommenders.csv'\n",
    "df = pd.read_csv(PATH)\n",
    "df['Recommenders ID'] = df['Recommenders ID'].apply(ast.literal_eval)\n",
    "df.shape"
   ]
  },
  {
   "cell_type": "code",
   "execution_count": 10,
   "metadata": {},
   "outputs": [
    {
     "name": "stdout",
     "output_type": "stream",
     "text": [
      "45\n"
     ]
    }
   ],
   "source": [
    "# Create a new binary column 'recur_endorse' initialized to 0\n",
    "df['recur_endorse'] = 0\n",
    "\n",
    "# Create a set to store recursive endorsements\n",
    "recursion_found = set()\n",
    "\n",
    "# Create a dictionary to map IDs to their recommenders\n",
    "recommender_dict = df.set_index('ID')['Recommenders ID'].to_dict()\n",
    "\n",
    "# Check for recursive recommendations\n",
    "for id, recommenders in recommender_dict.items():\n",
    "    for recommender in recommenders:\n",
    "        if recommender in recommender_dict and id in recommender_dict[recommender]:\n",
    "            recursion_found.add(tuple(sorted((id, recommender))))\n",
    "\n",
    "# Update the 'recur_endorse' column for the found recursive endorsements\n",
    "for id1, id2 in recursion_found:\n",
    "    df.loc[df['ID'] == id1, 'recur_endorse'] = 1\n",
    "    df.loc[df['ID'] == id2, 'recur_endorse'] = 1\n",
    "\n",
    "# Print the number of recursive recommendations found\n",
    "print(len(recursion_found))\n",
    "# print(\"Recursive Recommendations: \", )\n",
    "# for id1, id2 in recursion_found:\n",
    "#     print(f\"ID {id1} recommends ID {id2} and vice versa.\")"
   ]
  },
  {
   "cell_type": "code",
   "execution_count": 11,
   "metadata": {},
   "outputs": [
    {
     "data": {
      "text/plain": [
       "['ID', 'Recommenders ID', 'recur_endorse']"
      ]
     },
     "execution_count": 11,
     "metadata": {},
     "output_type": "execute_result"
    }
   ],
   "source": [
    "df.columns.to_list()"
   ]
  },
  {
   "cell_type": "code",
   "execution_count": 12,
   "metadata": {},
   "outputs": [
    {
     "data": {
      "text/plain": [
       "recur_endorse\n",
       "0    876\n",
       "1     88\n",
       "Name: count, dtype: int64"
      ]
     },
     "execution_count": 12,
     "metadata": {},
     "output_type": "execute_result"
    }
   ],
   "source": [
    "df['recur_endorse'].value_counts()"
   ]
  },
  {
   "cell_type": "code",
   "execution_count": 13,
   "metadata": {},
   "outputs": [],
   "source": [
    "# Save the updated DataFrame to a CSV file\n",
    "df.to_csv('../Final_Resume_Texts/dataset_recur_endorse.csv', index=False)"
   ]
  }
 ],
 "metadata": {
  "kernelspec": {
   "display_name": "eightfold",
   "language": "python",
   "name": "python3"
  },
  "language_info": {
   "codemirror_mode": {
    "name": "ipython",
    "version": 3
   },
   "file_extension": ".py",
   "mimetype": "text/x-python",
   "name": "python",
   "nbconvert_exporter": "python",
   "pygments_lexer": "ipython3",
   "version": "3.12.4"
  }
 },
 "nbformat": 4,
 "nbformat_minor": 2
}
