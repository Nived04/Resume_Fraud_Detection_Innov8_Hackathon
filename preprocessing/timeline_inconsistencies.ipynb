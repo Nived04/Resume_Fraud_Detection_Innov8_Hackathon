{
 "cells": [
  {
   "cell_type": "code",
   "execution_count": 1,
   "metadata": {},
   "outputs": [],
   "source": [
    "# code to find inconsistencies in the timelines of resume dates\n",
    "# csv data example format:\n",
    "# Resume ID,Company,Dates\n",
    "# 1,XYZ,['2010 to 2014', '2007 to 2010', '2002 to 2007']"
   ]
  },
  {
   "cell_type": "code",
   "execution_count": 137,
   "metadata": {},
   "outputs": [],
   "source": [
    "import csv\n",
    "import re\n",
    "import pandas as pd "
   ]
  },
  {
   "cell_type": "code",
   "execution_count": 149,
   "metadata": {},
   "outputs": [
    {
     "name": "stdout",
     "output_type": "stream",
     "text": [
      "(378, 3)\n"
     ]
    },
    {
     "data": {
      "text/plain": [
       "Resume ID     int64\n",
       "Company      object\n",
       "Dates        object\n",
       "dtype: object"
      ]
     },
     "execution_count": 149,
     "metadata": {},
     "output_type": "execute_result"
    }
   ],
   "source": [
    "experience_data = pd.read_csv('companies.csv')\n",
    "print(experience_data.shape)\n",
    "experience_data.columns\n",
    "experience_data.dtypes"
   ]
  },
  {
   "cell_type": "code",
   "execution_count": 150,
   "metadata": {},
   "outputs": [
    {
     "name": "stderr",
     "output_type": "stream",
     "text": [
      "C:\\Users\\Nived Shah\\AppData\\Local\\Temp\\ipykernel_31716\\2327953399.py:1: FutureWarning: A value is trying to be set on a copy of a DataFrame or Series through chained assignment using an inplace method.\n",
      "The behavior will change in pandas 3.0. This inplace method will never work because the intermediate object on which we are setting values always behaves as a copy.\n",
      "\n",
      "For example, when doing 'df[col].method(value, inplace=True)', try using 'df.method({col: value}, inplace=True)' or df[col] = df[col].method(value) instead, to perform the operation inplace on the original object.\n",
      "\n",
      "\n",
      "  experience_data['Dates'].fillna('[]', inplace=True)\n"
     ]
    }
   ],
   "source": [
    "experience_data['Dates'].fillna('[]', inplace=True)\n",
    "experience_data['Dates'] = experience_data['Dates'].str.replace('[','').str.replace(']','').str.replace(\" \", '').str.replace(\"'\",'').str.split(',')\n",
    "\n",
    "# if date is single year, change to 'year to 2024'\n",
    "experience_data['Dates'] = experience_data['Dates'].apply(lambda x: [y if 'to' in y else y + 'to2024' for y in x])\n",
    "\n",
    "# descending sort\n",
    "experience_data['Dates'] = experience_data['Dates'].apply(lambda x: sorted(x, reverse=True))"
   ]
  },
  {
   "cell_type": "code",
   "execution_count": 151,
   "metadata": {},
   "outputs": [
    {
     "data": {
      "text/plain": [
       "Resume ID     int64\n",
       "Company      object\n",
       "Dates        object\n",
       "dtype: object"
      ]
     },
     "execution_count": 151,
     "metadata": {},
     "output_type": "execute_result"
    }
   ],
   "source": [
    "experience_data.columns\n",
    "experience_data.dtypes"
   ]
  },
  {
   "cell_type": "code",
   "execution_count": 152,
   "metadata": {},
   "outputs": [],
   "source": [
    "experience_data['total_gap_years'] = 0\n",
    "experience_data['gap_greater_equal_2_years'] = False"
   ]
  },
  {
   "cell_type": "code",
   "execution_count": 153,
   "metadata": {},
   "outputs": [],
   "source": [
    "def check_dates(pos, candidate_experience):\n",
    "    start_year = None\n",
    "    total_gap_years = 0\n",
    "    \n",
    "    start_year = int(candidate_experience[0][:4])\n",
    "\n",
    "    for i in range(1, len(candidate_experience)):\n",
    "        end_year = int(candidate_experience[i][-4:])\n",
    "        gap = start_year - end_year\n",
    "        \n",
    "        if gap > 2:\n",
    "            total_gap_years += gap\n",
    "        \n",
    "        start_year = int(candidate_experience[i+1][:4]) if i + 1 < len(candidate_experience) else start_year\n",
    "    \n",
    "    experience_data.loc[pos, 'total_gap_years'] = total_gap_years\n",
    "    experience_data.loc[pos, 'gap_greater_equal_2_years'] = total_gap_years >= 2\n",
    "\n",
    "for i in range(len(experience_data)):\n",
    "    if experience_data['Dates'][i] == ['to2024']:\n",
    "        continue\n",
    "    check_dates(i, experience_data['Dates'][i])"
   ]
  },
  {
   "cell_type": "code",
   "execution_count": 156,
   "metadata": {},
   "outputs": [
    {
     "data": {
      "text/plain": [
       "gap_greater_equal_2_years\n",
       "False    369\n",
       "True       9\n",
       "Name: count, dtype: int64"
      ]
     },
     "execution_count": 156,
     "metadata": {},
     "output_type": "execute_result"
    }
   ],
   "source": [
    "experience_data['total_gap_years'].value_counts()\n",
    "experience_data['gap_greater_equal_2_years'].value_counts()"
   ]
  },
  {
   "cell_type": "code",
   "execution_count": 155,
   "metadata": {},
   "outputs": [],
   "source": [
    "experience_data.to_csv('gap_years.csv', index=False)"
   ]
  }
 ],
 "metadata": {
  "kernelspec": {
   "display_name": "Python 3",
   "language": "python",
   "name": "python3"
  },
  "language_info": {
   "codemirror_mode": {
    "name": "ipython",
    "version": 3
   },
   "file_extension": ".py",
   "mimetype": "text/x-python",
   "name": "python",
   "nbconvert_exporter": "python",
   "pygments_lexer": "ipython3",
   "version": "3.10.7"
  }
 },
 "nbformat": 4,
 "nbformat_minor": 2
}
