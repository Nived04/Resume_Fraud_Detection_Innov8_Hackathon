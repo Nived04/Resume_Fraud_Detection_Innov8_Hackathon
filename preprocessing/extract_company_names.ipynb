{
 "cells": [
  {
   "cell_type": "code",
   "execution_count": 13,
   "metadata": {},
   "outputs": [],
   "source": [
    "import pandas as pd\n",
    "import regex as re\n",
    "from tqdm import tqdm"
   ]
  },
  {
   "cell_type": "code",
   "execution_count": 140,
   "metadata": {},
   "outputs": [],
   "source": [
    "def extract_company_names(text):\n",
    "    # Define the regex pattern for matching month names (full and abbreviated), and month numbers\n",
    "    month_pattern = r'(?:January|February|March|April|May|June|July|August|September|October|November|December|' \\\n",
    "                    r'Jan|Feb|Mar|Apr|Jun|Jul|Aug|Sep|Oct|Nov|Dec|' \\\n",
    "                    r'0?[1-9]|1[0-2])'  # Full month names, abbreviations, or month numbers (01-12)\n",
    "    \n",
    "    # Define the pattern for day and year (optional day and required 4-digit year)\n",
    "    day_pattern = r'(?:[ \\n,/]*\\d{1,2})?'  # Optional day (1-31), can be separated by space, newline, or slash\n",
    "    year_pattern = r'[ \\n,/]*\\d{4}'  # 4-digit year\n",
    "    \n",
    "    # Final date pattern combining month, day (optional), and year\n",
    "    date_pattern = f'{month_pattern}{year_pattern}'\n",
    "    \n",
    "    # Full pattern to match date ranges \"{date} to {date}\" or \"{date} to Current\"\n",
    "    pattern = r'([^0-9\\n]*\\n*)?' \\\n",
    "              r'([^0-9\\n]*\\n*)?' \\\n",
    "              r'(' + date_pattern + r'[ \\n]*to[ \\n]*(?:' + date_pattern + r'|current))' \\\n",
    "              r'[ \\n]*'\\\n",
    "              r'(.*\\n*)?' \\\n",
    "              r'(.*\\n)?'\n",
    "    \n",
    "    try :\n",
    "\n",
    "      # Extract the matched patterns from the text\n",
    "      matches = re.findall(pattern, text, re.IGNORECASE)\n",
    "\n",
    "      # If no matches, return empty list\n",
    "      if not matches:\n",
    "          return []\n",
    "\n",
    "      companies = []\n",
    "\n",
    "      # print(matches)\n",
    "\n",
    "      counter = -1\n",
    "      \n",
    "      for match in matches:\n",
    "          # Collect surrounding lines and relevant info\n",
    "          baseline = [line for line in match if line]\n",
    "          if counter == -1:\n",
    "            counter = len(baseline)\n",
    "          baseliner = baseline[-counter:]\n",
    "          # print(baseliner)\n",
    "          final = \"\"\n",
    "          for i in range(3):\n",
    "            if (counter - i - 3 != 0):\n",
    "              final += baseliner[i]\n",
    "          companies.append(final)\n",
    "    except Exception as e:\n",
    "      companies = []\n",
    "      print(f\"Error in extracting companies for {text} : {e}, {matches}\")\n",
    "    return companies"
   ]
  },
  {
   "cell_type": "code",
   "execution_count": 149,
   "metadata": {},
   "outputs": [],
   "source": [
    "def process_resumes():\n",
    "    # Read the data from the CSV file\n",
    "    data = pd.read_csv('extracted_resume_sections.csv')\n",
    "    \n",
    "    # Apply the extract_company_names function to the 'text' column\n",
    "    result = {}\n",
    "\n",
    "    # filter out based on condition of section\n",
    "    data2 = data[data['Section'] == 'experience']\n",
    "\n",
    "    # check if the data has empty values\n",
    "    data2 = data2.dropna()\n",
    "\n",
    "    data2.to_csv('data2.csv', index=False)\n",
    "\n",
    "    # iterate over the rows and extract company names\n",
    "    results = data2['Content'].apply(extract_company_names)\n",
    "\n",
    "    # # for i, row in tqdm(data.iterrows()):\n",
    "    # #     if row['Section'] == 'experience':\n",
    "    # #         try:\n",
    "    # #             result[row['Resume ID']] = extract_company_names(row['Content'])\n",
    "    # #         except Exception as e:\n",
    "    # #             print(f\"An error occurred while processing Resume ID {row['Resume ID']}: {row['Content']}\")\n",
    "            \n",
    "    \n",
    "    # # make a new dataframe with column \"Resume ID\" and \"Company\"\n",
    "    df = pd.DataFrame({'Resume ID': data2['Resume ID'], 'Company': list(results)})\n",
    "\n",
    "    # # make a csv file from the new dataframe\n",
    "    df.to_csv('companies.csv', index=False)"
   ]
  },
  {
   "cell_type": "code",
   "execution_count": 150,
   "metadata": {},
   "outputs": [
    {
     "name": "stdout",
     "output_type": "stream",
     "text": [
      "Error in extracting companies for Finance Manager\n",
      "\n",
      "February 2001\n",
      "\n",
      "to\n",
      "September 2014 : list index out of range, [('Finance Manager\\n\\n', '', 'February 2001\\n\\nto\\nSeptember 2014', '', '')]\n"
     ]
    }
   ],
   "source": [
    "process_resumes()"
   ]
  }
 ],
 "metadata": {
  "kernelspec": {
   "display_name": "base",
   "language": "python",
   "name": "python3"
  },
  "language_info": {
   "codemirror_mode": {
    "name": "ipython",
    "version": 3
   },
   "file_extension": ".py",
   "mimetype": "text/x-python",
   "name": "python",
   "nbconvert_exporter": "python",
   "pygments_lexer": "ipython3",
   "version": "3.12.4"
  }
 },
 "nbformat": 4,
 "nbformat_minor": 2
}
