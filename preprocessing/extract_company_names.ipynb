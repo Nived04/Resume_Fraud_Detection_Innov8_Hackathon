{
 "cells": [
  {
   "cell_type": "code",
   "execution_count": 1,
   "metadata": {},
   "outputs": [],
   "source": [
    "import pandas as pd\n",
    "import regex as re\n",
    "from tqdm import tqdm"
   ]
  },
  {
   "cell_type": "code",
   "execution_count": 19,
   "metadata": {},
   "outputs": [],
   "source": [
    "def extract_company_names(text):\n",
    "    # Define the regex pattern for matching month names (full and abbreviated), and month numbers\n",
    "    month_pattern = r'(?:January|February|March|April|May|June|July|August|September|October|November|December|' \\\n",
    "                    r'Jan|Feb|Mar|Apr|Jun|Jul|Aug|Sep|Oct|Nov|Dec|' \\\n",
    "                    r'0?[1-9]|1[0-2])'  # Full month names, abbreviations, or month numbers (01-12)\n",
    "    \n",
    "    # Define the pattern for day and year (optional day and required 4-digit year)\n",
    "    day_pattern = r'(?:[ \\n,/]*\\d{1,2})?'  # Optional day (1-31), can be separated by space, newline, or slash\n",
    "    year_pattern = r'[ \\n,/]*\\d{4}'  # 4-digit year\n",
    "    \n",
    "    # Final date pattern combining month, day (optional), and year\n",
    "    date_pattern = f'{month_pattern}{year_pattern}'\n",
    "    \n",
    "    # Full pattern to match date ranges \"{date} to {date}\" or \"{date} to Current\"\n",
    "    pattern = r'([^0-9\\n]*\\n*)?' \\\n",
    "              r'([^0-9\\n]*\\n*)?' \\\n",
    "              r'(' + date_pattern + r'[ \\n]*to[ \\n]*(?:' + date_pattern + r'|current))' \\\n",
    "              r'[ \\n]*'\\\n",
    "              r'(.*\\n*)?' \\\n",
    "              r'(.*\\n)?'\n",
    "    \n",
    "    try :\n",
    "\n",
    "      # Extract the matched patterns from the text\n",
    "      matches = re.findall(pattern, text, re.IGNORECASE)\n",
    "\n",
    "      # If no matches, return empty list\n",
    "      if not matches:\n",
    "          return ([], [])\n",
    "\n",
    "      companies = []\n",
    "      dates = []\n",
    "\n",
    "      # print(matches)\n",
    "\n",
    "      counter = -1\n",
    "      \n",
    "      for match in matches:\n",
    "          \n",
    "          # Collect surrounding lines and relevant info\n",
    "          baseline = [line for line in match if line]\n",
    "          if counter == -1:\n",
    "            counter = len(baseline)\n",
    "          baseliner = baseline[-counter:]\n",
    "          # print(baseliner)\n",
    "          final = \"\"\n",
    "          for i in range(3):\n",
    "            if (counter - i - 3 != 0):\n",
    "              final += baseliner[i]\n",
    "          yearpat = re.compile(r'\\d{4}')\n",
    "          years = yearpat.findall(match[2])\n",
    "          dates.append(\" to \".join(years))\n",
    "          companies.append(final)\n",
    "    except Exception as e:\n",
    "      companies = []\n",
    "      print(f\"Error in extracting companies for {text} : {e}, {matches}\")\n",
    "    return (companies, dates)"
   ]
  },
  {
   "cell_type": "code",
   "execution_count": 22,
   "metadata": {},
   "outputs": [],
   "source": [
    "def process_resumes():\n",
    "    # Read the data from the CSV file\n",
    "    data = pd.read_csv('extracted_resume_sections.csv')\n",
    "    \n",
    "    # Apply the extract_company_names function to the 'text' column\n",
    "    result = {}\n",
    "\n",
    "    # filter out based on condition of section\n",
    "    data2 = data[data['Section'] == 'experience']\n",
    "\n",
    "    # check if the data has empty values\n",
    "    data2 = data2.dropna()\n",
    "\n",
    "    data2.to_csv('data2.csv', index=False)\n",
    "\n",
    "    # iterate over the rows and extract company names\n",
    "    res = data2['Content'].apply(extract_company_names)\n",
    "\n",
    "    companies = res.apply(lambda x: x[0])\n",
    "    dates = res.apply(lambda x: x[1])\n",
    "\n",
    "\n",
    "    # # for i, row in tqdm(data.iterrows()):\n",
    "    # #     if row['Section'] == 'experience':\n",
    "    # #         try:\n",
    "    # #             result[row['Resume ID']] = extract_company_names(row['Content'])\n",
    "    # #         except Exception as e:\n",
    "    # #             print(f\"An error occurred while processing Resume ID {row['Resume ID']}: {row['Content']}\")\n",
    "            \n",
    "    \n",
    "    # # make a new dataframe with column \"Resume ID\" and \"Company\"\n",
    "    df = pd.DataFrame({'Resume ID': data2['Resume ID'], 'Company': list(companies), 'Dates': list(dates)})\n",
    "\n",
    "    # # # make a csv file from the new dataframe\n",
    "    df.to_csv('companies.csv', index=False)"
   ]
  },
  {
   "cell_type": "code",
   "execution_count": 23,
   "metadata": {},
   "outputs": [
    {
     "name": "stdout",
     "output_type": "stream",
     "text": [
      "Error in extracting companies for Finance Manager\n",
      "\n",
      "February 2001\n",
      "\n",
      "to\n",
      "September 2014 : list index out of range, [('Finance Manager\\n\\n', '', 'February 2001\\n\\nto\\nSeptember 2014', '', '')]\n"
     ]
    },
    {
     "ename": "IndexError",
     "evalue": "list index out of range",
     "output_type": "error",
     "traceback": [
      "\u001b[0;31m---------------------------------------------------------------------------\u001b[0m",
      "\u001b[0;31mIndexError\u001b[0m                                Traceback (most recent call last)",
      "Cell \u001b[0;32mIn[23], line 1\u001b[0m\n\u001b[0;32m----> 1\u001b[0m process_resumes()\n",
      "Cell \u001b[0;32mIn[22], line 19\u001b[0m, in \u001b[0;36mprocess_resumes\u001b[0;34m()\u001b[0m\n\u001b[1;32m     16\u001b[0m \u001b[38;5;66;03m# iterate over the rows and extract company names\u001b[39;00m\n\u001b[1;32m     17\u001b[0m res \u001b[38;5;241m=\u001b[39m data2[\u001b[38;5;124m'\u001b[39m\u001b[38;5;124mContent\u001b[39m\u001b[38;5;124m'\u001b[39m]\u001b[38;5;241m.\u001b[39mapply(extract_company_names)\n\u001b[0;32m---> 19\u001b[0m companies \u001b[38;5;241m=\u001b[39m res\u001b[38;5;241m.\u001b[39mapply(\u001b[38;5;28;01mlambda\u001b[39;00m x: x[\u001b[38;5;241m0\u001b[39m])\n\u001b[1;32m     20\u001b[0m dates \u001b[38;5;241m=\u001b[39m res\u001b[38;5;241m.\u001b[39mapply(\u001b[38;5;28;01mlambda\u001b[39;00m x: x[\u001b[38;5;241m1\u001b[39m])\n\u001b[1;32m     23\u001b[0m \u001b[38;5;66;03m# # for i, row in tqdm(data.iterrows()):\u001b[39;00m\n\u001b[1;32m     24\u001b[0m \u001b[38;5;66;03m# #     if row['Section'] == 'experience':\u001b[39;00m\n\u001b[1;32m     25\u001b[0m \u001b[38;5;66;03m# #         try:\u001b[39;00m\n\u001b[0;32m   (...)\u001b[0m\n\u001b[1;32m     30\u001b[0m \n\u001b[1;32m     31\u001b[0m \u001b[38;5;66;03m# # make a new dataframe with column \"Resume ID\" and \"Company\"\u001b[39;00m\n",
      "File \u001b[0;32m~/anaconda3/lib/python3.12/site-packages/pandas/core/series.py:4924\u001b[0m, in \u001b[0;36mSeries.apply\u001b[0;34m(self, func, convert_dtype, args, by_row, **kwargs)\u001b[0m\n\u001b[1;32m   4789\u001b[0m \u001b[38;5;28;01mdef\u001b[39;00m \u001b[38;5;21mapply\u001b[39m(\n\u001b[1;32m   4790\u001b[0m     \u001b[38;5;28mself\u001b[39m,\n\u001b[1;32m   4791\u001b[0m     func: AggFuncType,\n\u001b[0;32m   (...)\u001b[0m\n\u001b[1;32m   4796\u001b[0m     \u001b[38;5;241m*\u001b[39m\u001b[38;5;241m*\u001b[39mkwargs,\n\u001b[1;32m   4797\u001b[0m ) \u001b[38;5;241m-\u001b[39m\u001b[38;5;241m>\u001b[39m DataFrame \u001b[38;5;241m|\u001b[39m Series:\n\u001b[1;32m   4798\u001b[0m \u001b[38;5;250m    \u001b[39m\u001b[38;5;124;03m\"\"\"\u001b[39;00m\n\u001b[1;32m   4799\u001b[0m \u001b[38;5;124;03m    Invoke function on values of Series.\u001b[39;00m\n\u001b[1;32m   4800\u001b[0m \n\u001b[0;32m   (...)\u001b[0m\n\u001b[1;32m   4915\u001b[0m \u001b[38;5;124;03m    dtype: float64\u001b[39;00m\n\u001b[1;32m   4916\u001b[0m \u001b[38;5;124;03m    \"\"\"\u001b[39;00m\n\u001b[1;32m   4917\u001b[0m     \u001b[38;5;28;01mreturn\u001b[39;00m SeriesApply(\n\u001b[1;32m   4918\u001b[0m         \u001b[38;5;28mself\u001b[39m,\n\u001b[1;32m   4919\u001b[0m         func,\n\u001b[1;32m   4920\u001b[0m         convert_dtype\u001b[38;5;241m=\u001b[39mconvert_dtype,\n\u001b[1;32m   4921\u001b[0m         by_row\u001b[38;5;241m=\u001b[39mby_row,\n\u001b[1;32m   4922\u001b[0m         args\u001b[38;5;241m=\u001b[39margs,\n\u001b[1;32m   4923\u001b[0m         kwargs\u001b[38;5;241m=\u001b[39mkwargs,\n\u001b[0;32m-> 4924\u001b[0m     )\u001b[38;5;241m.\u001b[39mapply()\n",
      "File \u001b[0;32m~/anaconda3/lib/python3.12/site-packages/pandas/core/apply.py:1427\u001b[0m, in \u001b[0;36mSeriesApply.apply\u001b[0;34m(self)\u001b[0m\n\u001b[1;32m   1424\u001b[0m     \u001b[38;5;28;01mreturn\u001b[39;00m \u001b[38;5;28mself\u001b[39m\u001b[38;5;241m.\u001b[39mapply_compat()\n\u001b[1;32m   1426\u001b[0m \u001b[38;5;66;03m# self.func is Callable\u001b[39;00m\n\u001b[0;32m-> 1427\u001b[0m \u001b[38;5;28;01mreturn\u001b[39;00m \u001b[38;5;28mself\u001b[39m\u001b[38;5;241m.\u001b[39mapply_standard()\n",
      "File \u001b[0;32m~/anaconda3/lib/python3.12/site-packages/pandas/core/apply.py:1507\u001b[0m, in \u001b[0;36mSeriesApply.apply_standard\u001b[0;34m(self)\u001b[0m\n\u001b[1;32m   1501\u001b[0m \u001b[38;5;66;03m# row-wise access\u001b[39;00m\n\u001b[1;32m   1502\u001b[0m \u001b[38;5;66;03m# apply doesn't have a `na_action` keyword and for backward compat reasons\u001b[39;00m\n\u001b[1;32m   1503\u001b[0m \u001b[38;5;66;03m# we need to give `na_action=\"ignore\"` for categorical data.\u001b[39;00m\n\u001b[1;32m   1504\u001b[0m \u001b[38;5;66;03m# TODO: remove the `na_action=\"ignore\"` when that default has been changed in\u001b[39;00m\n\u001b[1;32m   1505\u001b[0m \u001b[38;5;66;03m#  Categorical (GH51645).\u001b[39;00m\n\u001b[1;32m   1506\u001b[0m action \u001b[38;5;241m=\u001b[39m \u001b[38;5;124m\"\u001b[39m\u001b[38;5;124mignore\u001b[39m\u001b[38;5;124m\"\u001b[39m \u001b[38;5;28;01mif\u001b[39;00m \u001b[38;5;28misinstance\u001b[39m(obj\u001b[38;5;241m.\u001b[39mdtype, CategoricalDtype) \u001b[38;5;28;01melse\u001b[39;00m \u001b[38;5;28;01mNone\u001b[39;00m\n\u001b[0;32m-> 1507\u001b[0m mapped \u001b[38;5;241m=\u001b[39m obj\u001b[38;5;241m.\u001b[39m_map_values(\n\u001b[1;32m   1508\u001b[0m     mapper\u001b[38;5;241m=\u001b[39mcurried, na_action\u001b[38;5;241m=\u001b[39maction, convert\u001b[38;5;241m=\u001b[39m\u001b[38;5;28mself\u001b[39m\u001b[38;5;241m.\u001b[39mconvert_dtype\n\u001b[1;32m   1509\u001b[0m )\n\u001b[1;32m   1511\u001b[0m \u001b[38;5;28;01mif\u001b[39;00m \u001b[38;5;28mlen\u001b[39m(mapped) \u001b[38;5;129;01mand\u001b[39;00m \u001b[38;5;28misinstance\u001b[39m(mapped[\u001b[38;5;241m0\u001b[39m], ABCSeries):\n\u001b[1;32m   1512\u001b[0m     \u001b[38;5;66;03m# GH#43986 Need to do list(mapped) in order to get treated as nested\u001b[39;00m\n\u001b[1;32m   1513\u001b[0m     \u001b[38;5;66;03m#  See also GH#25959 regarding EA support\u001b[39;00m\n\u001b[1;32m   1514\u001b[0m     \u001b[38;5;28;01mreturn\u001b[39;00m obj\u001b[38;5;241m.\u001b[39m_constructor_expanddim(\u001b[38;5;28mlist\u001b[39m(mapped), index\u001b[38;5;241m=\u001b[39mobj\u001b[38;5;241m.\u001b[39mindex)\n",
      "File \u001b[0;32m~/anaconda3/lib/python3.12/site-packages/pandas/core/base.py:921\u001b[0m, in \u001b[0;36mIndexOpsMixin._map_values\u001b[0;34m(self, mapper, na_action, convert)\u001b[0m\n\u001b[1;32m    918\u001b[0m \u001b[38;5;28;01mif\u001b[39;00m \u001b[38;5;28misinstance\u001b[39m(arr, ExtensionArray):\n\u001b[1;32m    919\u001b[0m     \u001b[38;5;28;01mreturn\u001b[39;00m arr\u001b[38;5;241m.\u001b[39mmap(mapper, na_action\u001b[38;5;241m=\u001b[39mna_action)\n\u001b[0;32m--> 921\u001b[0m \u001b[38;5;28;01mreturn\u001b[39;00m algorithms\u001b[38;5;241m.\u001b[39mmap_array(arr, mapper, na_action\u001b[38;5;241m=\u001b[39mna_action, convert\u001b[38;5;241m=\u001b[39mconvert)\n",
      "File \u001b[0;32m~/anaconda3/lib/python3.12/site-packages/pandas/core/algorithms.py:1743\u001b[0m, in \u001b[0;36mmap_array\u001b[0;34m(arr, mapper, na_action, convert)\u001b[0m\n\u001b[1;32m   1741\u001b[0m values \u001b[38;5;241m=\u001b[39m arr\u001b[38;5;241m.\u001b[39mastype(\u001b[38;5;28mobject\u001b[39m, copy\u001b[38;5;241m=\u001b[39m\u001b[38;5;28;01mFalse\u001b[39;00m)\n\u001b[1;32m   1742\u001b[0m \u001b[38;5;28;01mif\u001b[39;00m na_action \u001b[38;5;129;01mis\u001b[39;00m \u001b[38;5;28;01mNone\u001b[39;00m:\n\u001b[0;32m-> 1743\u001b[0m     \u001b[38;5;28;01mreturn\u001b[39;00m lib\u001b[38;5;241m.\u001b[39mmap_infer(values, mapper, convert\u001b[38;5;241m=\u001b[39mconvert)\n\u001b[1;32m   1744\u001b[0m \u001b[38;5;28;01melse\u001b[39;00m:\n\u001b[1;32m   1745\u001b[0m     \u001b[38;5;28;01mreturn\u001b[39;00m lib\u001b[38;5;241m.\u001b[39mmap_infer_mask(\n\u001b[1;32m   1746\u001b[0m         values, mapper, mask\u001b[38;5;241m=\u001b[39misna(values)\u001b[38;5;241m.\u001b[39mview(np\u001b[38;5;241m.\u001b[39muint8), convert\u001b[38;5;241m=\u001b[39mconvert\n\u001b[1;32m   1747\u001b[0m     )\n",
      "File \u001b[0;32mlib.pyx:2972\u001b[0m, in \u001b[0;36mpandas._libs.lib.map_infer\u001b[0;34m()\u001b[0m\n",
      "Cell \u001b[0;32mIn[22], line 19\u001b[0m, in \u001b[0;36mprocess_resumes.<locals>.<lambda>\u001b[0;34m(x)\u001b[0m\n\u001b[1;32m     16\u001b[0m \u001b[38;5;66;03m# iterate over the rows and extract company names\u001b[39;00m\n\u001b[1;32m     17\u001b[0m res \u001b[38;5;241m=\u001b[39m data2[\u001b[38;5;124m'\u001b[39m\u001b[38;5;124mContent\u001b[39m\u001b[38;5;124m'\u001b[39m]\u001b[38;5;241m.\u001b[39mapply(extract_company_names)\n\u001b[0;32m---> 19\u001b[0m companies \u001b[38;5;241m=\u001b[39m res\u001b[38;5;241m.\u001b[39mapply(\u001b[38;5;28;01mlambda\u001b[39;00m x: x[\u001b[38;5;241m0\u001b[39m])\n\u001b[1;32m     20\u001b[0m dates \u001b[38;5;241m=\u001b[39m res\u001b[38;5;241m.\u001b[39mapply(\u001b[38;5;28;01mlambda\u001b[39;00m x: x[\u001b[38;5;241m1\u001b[39m])\n\u001b[1;32m     23\u001b[0m \u001b[38;5;66;03m# # for i, row in tqdm(data.iterrows()):\u001b[39;00m\n\u001b[1;32m     24\u001b[0m \u001b[38;5;66;03m# #     if row['Section'] == 'experience':\u001b[39;00m\n\u001b[1;32m     25\u001b[0m \u001b[38;5;66;03m# #         try:\u001b[39;00m\n\u001b[0;32m   (...)\u001b[0m\n\u001b[1;32m     30\u001b[0m \n\u001b[1;32m     31\u001b[0m \u001b[38;5;66;03m# # make a new dataframe with column \"Resume ID\" and \"Company\"\u001b[39;00m\n",
      "\u001b[0;31mIndexError\u001b[0m: list index out of range"
     ]
    }
   ],
   "source": [
    "process_resumes()"
   ]
  },
  {
   "cell_type": "code",
   "execution_count": null,
   "metadata": {},
   "outputs": [],
   "source": []
  }
 ],
 "metadata": {
  "kernelspec": {
   "display_name": "base",
   "language": "python",
   "name": "python3"
  },
  "language_info": {
   "codemirror_mode": {
    "name": "ipython",
    "version": 3
   },
   "file_extension": ".py",
   "mimetype": "text/x-python",
   "name": "python",
   "nbconvert_exporter": "python",
   "pygments_lexer": "ipython3",
   "version": "3.12.4"
  }
 },
 "nbformat": 4,
 "nbformat_minor": 2
}
